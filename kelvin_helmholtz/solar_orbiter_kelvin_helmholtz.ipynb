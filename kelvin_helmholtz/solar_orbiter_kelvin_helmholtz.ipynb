{
 "cells": [
  {
   "cell_type": "code",
   "execution_count": null,
   "metadata": {},
   "outputs": [],
   "source": [
    "import speasy as spz\n",
    "from datetime import datetime\n",
    "import matplotlib.pyplot as plt"
   ]
  },
  {
   "cell_type": "code",
   "execution_count": null,
   "metadata": {},
   "outputs": [],
   "source": []
  },
  {
   "cell_type": "markdown",
   "metadata": {},
   "source": [
    "Plot Solar Orbiter observation data between 2020/07/23 16:00:00 and 2020/07/24 06:00:00."
   ]
  },
  {
   "cell_type": "code",
   "execution_count": null,
   "metadata": {},
   "outputs": [],
   "source": [
    "start = \"2020/07/24T02:00:00\"\n",
    "stop = \"2020/07/24T04:00:00\""
   ]
  },
  {
   "cell_type": "code",
   "execution_count": null,
   "metadata": {},
   "outputs": [],
   "source": [
    "solo_b_id = \"solo_b_rtn_hr\"\n",
    "solo_n_id = \"pas_momgr_n\"\n",
    "solo_v_id = \"pas_mom_v\"\n",
    "\n",
    "parameter_ids = [solo_b_id, solo_n_id, solo_v_id]\n",
    "parameter_data = [spz.get_data(f\"amda/{pid}\", start, stop) for pid in parameter_ids]"
   ]
  },
  {
   "cell_type": "code",
   "execution_count": null,
   "metadata": {},
   "outputs": [],
   "source": [
    "n = len(parameter_data)\n",
    "fig, ax = plt.subplots(n,1, figsize=(10, n*3), sharex=True)\n",
    "for i, param in enumerate(parameter_data):\n",
    "    t = [datetime.utcfromtimestamp(ti) for ti in param.time]\n",
    "    #ax[i].plot(param.time, param.data)\n",
    "    ax[i].plot(t, param.data)\n",
    "    ax[i].set_ylabel(parameter_ids[i])\n",
    "import matplotlib.dates as mdates\n",
    "datefmt = mdates.DateFormatter(\"%H:%M\")\n",
    "\n",
    "ax[-1].xaxis.set_major_formatter(datefmt)\n",
    "plt.show()"
   ]
  },
  {
   "cell_type": "code",
   "execution_count": null,
   "metadata": {},
   "outputs": [],
   "source": [
    "fig, ax = plt.subplots(4,1, sharex=True, figsize=(10, 8))\n",
    "\n",
    "from scipy.interpolate import interp1d\n",
    "import numpy as np\n",
    "import pandas as pd\n",
    "\n",
    "b_data = parameter_data[0]\n",
    "\n",
    "b_func = interp1d(b_data.time, b_data.data, axis=0)\n",
    "t = [datetime.utcfromtimestamp(ti) for ti in b_data.time]\n",
    "nt = np.arange(b_data.time[0], b_data.time[-1], 1)\n",
    "\n",
    "b = b_func(nt)\n",
    "\n",
    "b_ts = pd.DataFrame(data = b, index=nt)\n",
    "\n",
    "b_mean = b_ts.rolling(20).mean()\n",
    "b_mean_func = interp1d(b_mean.index-600, b_mean.values, axis=0, bounds_error=False)\n",
    "bm = b_mean_func(nt)\n",
    "\n",
    "\n",
    "ax[0].plot(t, b_data.data)\n",
    "ax[0].set_ylabel(\"b (RTN)\")\n",
    "\n",
    "tt = [datetime.utcfromtimestamp(ti-600) for ti in b_mean.index]\n",
    "ax[1].plot(tt, b_mean.values)\n",
    "ax[1].set_ylabel(\"b_mean (RTN)\")\n",
    "\n",
    "# one arrow per 10 minute\n",
    "x_bases = np.arange(b_data.time[0], b_data.time[-1], 60)\n",
    "for x_b in x_bases:\n",
    "    bt = b_func(x_b)\n",
    "    bmt = b_mean_func(x_b)\n",
    "    db = bt - bmt\n",
    "    db[0] = .001 * db[0]\n",
    "    ax[2].arrow(datetime.utcfromtimestamp(x_b), 0, db[0], db[1], \n",
    "               width=.0001,\n",
    "               head_width=.0003, \n",
    "               shape=\"full\",\n",
    "               head_length=30*.0003)\n",
    "               #length_includes_head=False)\n",
    "    ax[3].arrow(datetime.utcfromtimestamp(x_b), 0, db[0], db[2])\n",
    "               #width=.0001,)\n",
    "               #length_includes_head=False)\n",
    "ttt = [datetime.utcfromtimestamp(ti) for ti in nt]\n",
    "#ax[2].plot(ttt, b-bm)\n",
    "ax[3].xaxis.set_major_formatter(datefmt)\n",
    "ax[3].set_xlabel(\"Time\")\n",
    "ax[3].set_xlim(t[0], t[-1])\n",
    "plt.subplots_adjust(wspace=0, hspace=0)\n",
    "plt.show()"
   ]
  },
  {
   "cell_type": "code",
   "execution_count": null,
   "metadata": {},
   "outputs": [],
   "source": [
    "plt.plot(b_mean.values)"
   ]
  },
  {
   "cell_type": "code",
   "execution_count": null,
   "metadata": {},
   "outputs": [],
   "source": []
  }
 ],
 "metadata": {
  "kernelspec": {
   "display_name": "speasy_use_case",
   "language": "python",
   "name": "speasy_use_case"
  },
  "language_info": {
   "codemirror_mode": {
    "name": "ipython",
    "version": 3
   },
   "file_extension": ".py",
   "mimetype": "text/x-python",
   "name": "python",
   "nbconvert_exporter": "python",
   "pygments_lexer": "ipython3",
   "version": "3.8.10"
  }
 },
 "nbformat": 4,
 "nbformat_minor": 4
}
