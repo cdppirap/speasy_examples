{
 "cells": [
  {
   "cell_type": "code",
   "execution_count": null,
   "metadata": {},
   "outputs": [],
   "source": [
    "# Spectral plot\n",
    "import sys\n",
    "sys.path.insert(0,\"..\")\n",
    "\n",
    "import speasy as spz\n",
    "import matplotlib.pyplot as plt\n",
    "import numpy as np\n",
    "import speasy_utils"
   ]
  },
  {
   "cell_type": "code",
   "execution_count": null,
   "metadata": {},
   "outputs": [],
   "source": [
    "param_id = \"thb_ion_sp\"\n",
    "start = \"2008/05/16T05:00:00\"\n",
    "stop = \"2008/05/16T15:00:00\""
   ]
  },
  {
   "cell_type": "code",
   "execution_count": null,
   "metadata": {},
   "outputs": [],
   "source": [
    "# get data, see what shape it has\n",
    "data = spz.get_data(f\"amda/{param_id}\", start, stop)\n",
    "print(f\"Data shape : {data.data.shape}\")"
   ]
  },
  {
   "cell_type": "code",
   "execution_count": null,
   "metadata": {},
   "outputs": [],
   "source": [
    "import matplotlib\n",
    "import matplotlib.colors as colors\n",
    "import matplotlib.ticker as mticker\n",
    "from datetime import datetime\n",
    "\n",
    "def spectro_plot(param_id, start, stop, ylabel=None, channels = None, ax=None, figsize=(10,2), \n",
    "                 vmin=None, vmax=None, lognorm=True):\n",
    "    if ax is None:\n",
    "        fig, ax = plt.subplots(1,1,figsize=figsize)\n",
    "    # get the data\n",
    "    param_data = spz.get_data(param_id, start, stop)\n",
    "    [n,m] = param_data.data.shape\n",
    "    X = param_data.data   \n",
    "    \n",
    "    # channels (constant channels case)\n",
    "    if channels is None:\n",
    "        y = np.arange(0,m,1)\n",
    "    else:\n",
    "        y = channels\n",
    "    \n",
    "    # grid\n",
    "    x1, y1 = np.meshgrid(param_data.time,y, indexing=\"ij\")\n",
    "    \n",
    "    # data bounds\n",
    "    if vmin is None:\n",
    "        vmin = np.nanmin(X)\n",
    "    if vmax is None:\n",
    "        vmax = np.nanmax(X)\n",
    "    \n",
    "    # colormap\n",
    "    cmap = matplotlib.cm.rainbow.copy()\n",
    "    cmap.set_bad('White',0.)\n",
    "    \n",
    "    # normalize colormapping\n",
    "    if lognorm and vmin>0.:\n",
    "        norm=colors.LogNorm(vmin=vmin, vmax=vmax)\n",
    "    else:\n",
    "        norm=None\n",
    "    \n",
    "    \n",
    "    c = ax.pcolormesh(x1, y1, X, cmap=cmap, norm=norm, edgecolors=\"face\")\n",
    "    plt.colorbar(c,ax=ax, norm=norm)\n",
    "    \n",
    "    ax.set_xlabel(\"Time\")\n",
    "    x_ticks = ax.get_xticks()\n",
    "    x_ticks = [datetime.utcfromtimestamp(xi) for xi in x_ticks]\n",
    "    x_labels = [d.strftime(\"%H:%M\") for d in x_ticks]\n",
    "    \n",
    "    ticks_loc = ax.get_xticks().tolist()\n",
    "    ax.xaxis.set_major_locator(mticker.FixedLocator(ticks_loc))\n",
    "    ax.set_xticklabels(x_labels)\n",
    "    \n",
    "    if ylabel:\n",
    "        ax.set_ylabel(ylabel)\n",
    "    \n",
    "    ax.set_ylim(y.min(), y.max())\n",
    "    \n",
    "    return ax\n",
    "    \n"
   ]
  },
  {
   "cell_type": "code",
   "execution_count": null,
   "metadata": {},
   "outputs": [],
   "source": [
    "ybin_min = np.array([22680,18275,13883,10546,8012,6086,4624,3512,\n",
    "                    2668,2027,1540,1170,888,675,512,390,296,225,\n",
    "                    170,130,98.9,75.2,57.,43.3,33.,25.1,18.9,\n",
    "                    14.2,11.,8.44,6.38,4.88])\n",
    "ybin_max = np.hstack((np.array([26501]), ybin_min[:-1]))\n",
    "ybins = np.vstack((ybin_min, ybin_max)).T\n",
    "channels = np.mean(ybins, axis=1)\n",
    "\n",
    "ax = spectro_plot(\"amda/thb_ion_sp\", start, stop, channels=channels, ylabel=\"Energy\", vmin=1e2, vmax=1e8)\n",
    "ax.set_yscale(\"log\")\n",
    "plt.show()"
   ]
  },
  {
   "cell_type": "code",
   "execution_count": null,
   "metadata": {},
   "outputs": [],
   "source": []
  }
 ],
 "metadata": {
  "kernelspec": {
   "display_name": "speasy_examples",
   "language": "python",
   "name": "speasy_examples"
  },
  "language_info": {
   "codemirror_mode": {
    "name": "ipython",
    "version": 3
   },
   "file_extension": ".py",
   "mimetype": "text/x-python",
   "name": "python",
   "nbconvert_exporter": "python",
   "pygments_lexer": "ipython3",
   "version": "3.8.10"
  }
 },
 "nbformat": 4,
 "nbformat_minor": 4
}
